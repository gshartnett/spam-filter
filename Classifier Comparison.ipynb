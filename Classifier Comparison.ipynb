{
 "cells": [
  {
   "cell_type": "code",
   "execution_count": 1,
   "metadata": {
    "collapsed": false
   },
   "outputs": [],
   "source": [
    "## The purpose of this notebook is compare a few classifiers for discrete problems, like spam filtering.\n",
    "## I'll use the data from this website: http://www.aueb.gr/users/ion/data/enron-spam/index.html\n",
    "\n",
    "## import packages\n",
    "import matplotlib.pyplot as plt\n",
    "import numpy as np\n",
    "import pandas as pd\n",
    "import math\n",
    "import random\n",
    "import os\n",
    "import nltk\n",
    "from nltk.corpus import stopwords\n",
    "from nltk.stem import WordNetLemmatizer\n",
    "import re\n",
    "import string\n",
    "from collections import Counter\n",
    "import scipy.sparse\n",
    "from prettytable import PrettyTable\n",
    "import gc\n",
    "\n",
    "## garbage collection\n",
    "gc.collect();"
   ]
  },
  {
   "cell_type": "code",
   "execution_count": 2,
   "metadata": {
    "collapsed": false
   },
   "outputs": [],
   "source": [
    "## load the data\n",
    "\n",
    "## assemble the file lists\n",
    "spam_file_list1 = ['data/preprocessed/enron1/spam/' + filename for filename in os.listdir('data/preprocessed/enron1/spam')]\n",
    "spam_file_list2 = ['data/preprocessed/enron2/spam/' + filename for filename in os.listdir('data/preprocessed/enron2/spam')]\n",
    "spam_file_list3 = ['data/preprocessed/enron3/spam/' + filename for filename in os.listdir('data/preprocessed/enron3/spam')]\n",
    "spam_file_list4 = ['data/preprocessed/enron4/spam/' + filename for filename in os.listdir('data/preprocessed/enron4/spam')]\n",
    "spam_file_list5 = ['data/preprocessed/enron5/spam/' + filename for filename in os.listdir('data/preprocessed/enron5/spam')]\n",
    "spam_file_list6 = ['data/preprocessed/enron6/spam/' + filename for filename in os.listdir('data/preprocessed/enron6/spam')]\n",
    "spam_file_list = spam_file_list1 + spam_file_list2 + spam_file_list3 + spam_file_list4 + spam_file_list5 + spam_file_list6\n",
    "\n",
    "## assemble the file lists\n",
    "ham_file_list1 = ['data/preprocessed/enron1/ham/' + filename for filename in os.listdir('data/preprocessed/enron1/ham')]\n",
    "ham_file_list2 = ['data/preprocessed/enron2/ham/' + filename for filename in os.listdir('data/preprocessed/enron2/ham')]\n",
    "ham_file_list3 = ['data/preprocessed/enron3/ham/' + filename for filename in os.listdir('data/preprocessed/enron3/ham')]\n",
    "ham_file_list4 = ['data/preprocessed/enron4/ham/' + filename for filename in os.listdir('data/preprocessed/enron4/ham')]\n",
    "ham_file_list5 = ['data/preprocessed/enron5/ham/' + filename for filename in os.listdir('data/preprocessed/enron5/ham')]\n",
    "ham_file_list6 = ['data/preprocessed/enron6/ham/' + filename for filename in os.listdir('data/preprocessed/enron6/ham')]\n",
    "ham_file_list = ham_file_list1 + ham_file_list2 + ham_file_list3 + ham_file_list4 + ham_file_list5 + ham_file_list6\n",
    "\n",
    "## assemble the data\n",
    "ham_data = []\n",
    "for i in range(len(ham_file_list)):\n",
    "  with open(ham_file_list[i], 'r') as myfile:\n",
    "    ham_data.append(myfile.read().replace('\\r\\n',''))\n",
    "\n",
    "spam_data = []\n",
    "for i in range(len(spam_file_list)):\n",
    "  with open(spam_file_list[i], 'r') as myfile:\n",
    "    spam_data.append(myfile.read().replace('\\r\\n',''))"
   ]
  },
  {
   "cell_type": "code",
   "execution_count": 3,
   "metadata": {
    "collapsed": false
   },
   "outputs": [
    {
     "name": "stdout",
     "output_type": "stream",
     "text": [
      "1655\n",
      "1718\n"
     ]
    }
   ],
   "source": [
    "## drop a fraction of the data (optional, used for building the code)\n",
    "frac = 0.9 #fraction to drop\n",
    "inds = set(random.sample(list(range(len(ham_data))), int(frac*len(ham_data))))\n",
    "ham_data = [n for i,n in enumerate(ham_data) if i not in inds]\n",
    "inds = set(random.sample(list(range(len(spam_data))), int(frac*len(spam_data))))\n",
    "spam_data = [n for i,n in enumerate(spam_data) if i not in inds]\n",
    "\n",
    "print len(ham_data)\n",
    "print len(spam_data)"
   ]
  },
  {
   "cell_type": "code",
   "execution_count": 4,
   "metadata": {
    "collapsed": false
   },
   "outputs": [],
   "source": [
    "## further processing: remove punctuation and numbers, tokenize\n",
    "\n",
    "## define a processing function that 1) lowers the case, 2) tokenizes into words, 3) lemmatizes\n",
    "wordnet_lemmatizer = WordNetLemmatizer()\n",
    "def process(sentence):\n",
    "  return [wordnet_lemmatizer.lemmatize(word.lower()) for word in nltk.word_tokenize(sentence)]\n",
    "\n",
    "## load the list of english stop words\n",
    "stoplist = stopwords.words('english')\n",
    "stoplist.append('subject') #the emails all include a 'subject: XXX' header\n",
    "\n",
    "## set-up regular expressions to delete all non a-z characters\n",
    "regex = re.compile('[^a-zA-Z]')\n",
    "\n",
    "## list of punctuation symbols to remove\n",
    "exclude = set(string.punctuation)\n",
    "\n",
    "## list of printable characters\n",
    "printable = set(string.printable)"
   ]
  },
  {
   "cell_type": "code",
   "execution_count": 5,
   "metadata": {
    "collapsed": false
   },
   "outputs": [],
   "source": [
    "spam_words = []\n",
    "for i in range(len(spam_data)):\n",
    "  ## remove non-printable characters\n",
    "  text_dummy = filter(lambda x: x in printable, spam_data[i])\n",
    "  ## drop punctuation, tokenize into words, lower the case, and lemmatize\n",
    "  text_dummy = ''.join(ch for ch in text_dummy if ch not in exclude)\n",
    "  words_dummy = process(text_dummy)\n",
    "  ## remove stop words\n",
    "  words_dummy = [w for w in words_dummy if not w in stoplist]\n",
    "  ## remove numbers\n",
    "  words_dummy = [regex.sub('', w) for w in words_dummy if len(regex.sub('', w)) > 0]\n",
    "  \n",
    "  spam_words.append(words_dummy)\n",
    "\n",
    "ham_words = []\n",
    "for i in range(len(ham_data)):\n",
    "  ## remove non-printable characters\n",
    "  text_dummy = filter(lambda x: x in printable, ham_data[i])\n",
    "  ## drop punctuation, tokenize into words, lower the case, and lemmatize\n",
    "  text_dummy = ''.join(ch for ch in text_dummy if ch not in exclude)\n",
    "  words_dummy = process(text_dummy)\n",
    "  ## remove stop words\n",
    "  words_dummy = [w for w in words_dummy if not w in stoplist]\n",
    "  ## remove numbers\n",
    "  words_dummy = [regex.sub('', w) for w in words_dummy if len(regex.sub('', w)) > 0]\n",
    "\n",
    "  ham_words.append(words_dummy)\n",
    "\n",
    "## drop any instances where all the words have been removed\n",
    "spam_words = [ i for i in spam_words if len(i) != 0]\n",
    "ham_words = [ i for i in ham_words if len(i) != 0]"
   ]
  },
  {
   "cell_type": "code",
   "execution_count": 6,
   "metadata": {
    "collapsed": false
   },
   "outputs": [],
   "source": [
    "## put the data into dataframe form\n",
    "words = spam_words + ham_words\n",
    "classes = [1]*len(spam_words) + [0]*len(ham_words)\n",
    "headers = ['class', 'words']\n",
    "df = pd.DataFrame([classes, words])\n",
    "df = df.transpose()\n",
    "df.columns = headers\n",
    "\n",
    "## shuffle\n",
    "df = df.sample(frac=1).reset_index(drop=True)\n",
    "\n",
    "## split off a CV set\n",
    "cvratio = .2 # fraction to split off\n",
    "df_cv = df.copy(deep=True)\n",
    "df_cv = df_cv.iloc[:int(math.floor(cvratio*len(df)))]\n",
    "df_cv = df_cv.reset_index(drop=True)\n",
    "df = df.iloc[int(math.floor(cvratio*len(df))):]\n",
    "df = df.reset_index(drop=True)"
   ]
  },
  {
   "cell_type": "code",
   "execution_count": 7,
   "metadata": {
    "collapsed": false
   },
   "outputs": [],
   "source": [
    "## convert the list of words to a list of word ranks\n",
    "words_tot = [item for sublist in df['words'] for item in sublist]\n",
    "count = Counter(words_tot).most_common()\n",
    "words_unique = [count[i][0] for i in range(len(count))]\n",
    "words_frequencies = [count[i][1] for i in range(len(count))]\n",
    "\n",
    "def word_to_rank(x):\n",
    "  return sorted([ words_unique.index(w) for w in x if w in words_unique])\n",
    "\n",
    "df['word_ranks'] = df['words'].map(word_to_rank)\n",
    "df_cv['word_ranks'] = df_cv['words'].map(word_to_rank)"
   ]
  },
  {
   "cell_type": "code",
   "execution_count": 8,
   "metadata": {
    "collapsed": false
   },
   "outputs": [
    {
     "name": "stdout",
     "output_type": "stream",
     "text": [
      "training set statistics:\n",
      "total number of words: 370767\n",
      "total number of unique words: 55042\n",
      "lexical diversity: 0.148454420161\n",
      "\n",
      "\n",
      "+-------------+-------+\n",
      "| Word        | Count |\n",
      "+-------------+-------+\n",
      "| enron       |  4559 |\n",
      "| company     |  2211 |\n",
      "| ect         |  1959 |\n",
      "| ha          |  1508 |\n",
      "| please      |  1443 |\n",
      "| com         |  1410 |\n",
      "| u           |  1311 |\n",
      "| e           |  1271 |\n",
      "| new         |  1255 |\n",
      "| wa          |  1243 |\n",
      "| hou         |  1193 |\n",
      "| may         |  1141 |\n",
      "| would       |  1122 |\n",
      "| said        |  1091 |\n",
      "| time        |  1082 |\n",
      "| price       |   970 |\n",
      "| business    |   918 |\n",
      "| one         |   895 |\n",
      "| information |   890 |\n",
      "| market      |   878 |\n",
      "+-------------+-------+\n"
     ]
    },
    {
     "data": {
      "image/png": "[encoded data removed]",
      "text/plain": [
       "<matplotlib.figure.Figure at 0x7fb16e5e68d0>"
      ]
     },
     "metadata": {},
     "output_type": "display_data"
    },
    {
     "data": {
      "image/png": "[encoded data removed]",
      "text/plain": [
       "<matplotlib.figure.Figure at 0x7fb16bc44410>"
      ]
     },
     "metadata": {},
     "output_type": "display_data"
    }
   ],
   "source": [
    "## print out some preliminary statistics\n",
    "\n",
    "## lexical diversity\n",
    "def lexical_diversity(tokens):\n",
    "    return 1.0*len(set(tokens))/len(tokens) \n",
    "\n",
    "print 'training set statistics:'\n",
    "print 'total number of words:', len(words_tot)\n",
    "print 'total number of unique words:', len(words_unique)\n",
    "print 'lexical diversity:', lexical_diversity(words_tot)\n",
    "\n",
    "## examine word frequencies\n",
    "print '\\n'\n",
    "pt = PrettyTable(field_names=['Word', 'Count']) \n",
    "[ pt.add_row(kv) for kv in count[:20] ]\n",
    "pt.align['Word'], pt.align['Count'] = 'l', 'r' #set column alignment\n",
    "print pt\n",
    "\n",
    "## get a sense for the frequency distribution of words\n",
    "## what % of words occur with frequency <= x\n",
    "maxwordfreq = [100.0*c*words_frequencies.count(c)/len(words_tot) for c in range(1,50)]\n",
    "for i in range(1,len(maxwordfreq)):\n",
    "  maxwordfreq[i] += maxwordfreq[i-1]\n",
    "%matplotlib inline\n",
    "plt.plot(maxwordfreq, c='black')\n",
    "plt.ylabel('percent of words')\n",
    "plt.xlabel('max word frequency')\n",
    "plt.show()\n",
    "\n",
    "## plot frequency(rank)\n",
    "words_tot_counts = sorted(Counter(words_tot).values(), reverse=True)\n",
    "plt.loglog(words_tot_counts, c='black')\n",
    "plt.ylabel('frequency')\n",
    "plt.xlabel('word rank')\n",
    "plt.show()"
   ]
  },
  {
   "cell_type": "code",
   "execution_count": 20,
   "metadata": {
    "collapsed": false
   },
   "outputs": [],
   "source": [
    "## drop all the words that show up <= p times\n",
    "p = 0\n",
    "if p>0:\n",
    "  K=len(words_tot)\n",
    "  for k in range(len(words_frequencies)):\n",
    "    if words_frequencies[k] == p:\n",
    "      K=k\n",
    "      break\n",
    "\n",
    "  word_ranks_small = []\n",
    "  for i in range(len(df)):\n",
    "    word_ranks_small.append( [w for w in df['word_ranks'].iloc[i] if w < K] )\n",
    "  df['word_ranks_small'] = word_ranks_small\n",
    "\n",
    "  print '% retained:', 100.0*len([item for sublist in df['word_ranks_small'] for item in sublist]) \\\n",
    "   /len([item for sublist in df['word_ranks'] for item in sublist])"
   ]
  },
  {
   "cell_type": "code",
   "execution_count": 10,
   "metadata": {
    "collapsed": false
   },
   "outputs": [],
   "source": [
    "## build the bag of words\n",
    "max_rank = len(words_frequencies)\n",
    "Ndocs = len(df)\n",
    "Ndocs_cv = len(df_cv)\n",
    "\n",
    "ranks_tot = [item for sublist in df['word_ranks_small'] for item in sublist]\n",
    "ranks_tot_spam = [item for sublist in df['word_ranks_small'][df['class'] == 1] for item in sublist]\n",
    "ranks_tot_ham = [item for sublist in df['word_ranks_small'][df['class'] == 0] for item in sublist]\n",
    "counter = Counter(ranks_tot)\n",
    "counter_spam = Counter(ranks_tot_spam)\n",
    "counter_ham = Counter(ranks_tot_ham)"
   ]
  },
  {
   "cell_type": "code",
   "execution_count": 11,
   "metadata": {
    "collapsed": false
   },
   "outputs": [
    {
     "name": "stdout",
     "output_type": "stream",
     "text": [
      "CV set: correctly classified: 95.690936107 %\n"
     ]
    }
   ],
   "source": [
    "################################################################\n",
    "## Naive Bayes classifier\n",
    "\n",
    "##re-think Laplace smoothing now that I'm ignoring new words in cv set\n",
    "\n",
    "## priors\n",
    "prior_ham = float(sum(df['class']==0))/Ndocs\n",
    "prior_spam = float(sum(df['class']==1))/Ndocs\n",
    "\n",
    "## conditional probabilities of word given class (with Laplace smoothing parameter alpha)\n",
    "alpha = 1 # Laplace smoothing parameter\n",
    "def p_rank_given_spam(rank):\n",
    "  return float(counter_spam[rank] + alpha)/(len(ranks_tot_spam) + alpha*len(ranks_tot))\n",
    "def p_rank_given_ham(rank):\n",
    "  return float(counter_ham[rank] + alpha)/(len(ranks_tot_ham) + alpha*len(ranks_tot))\n",
    "\n",
    "## class prediction\n",
    "def predict(rank_list):\n",
    "  p_spam = math.log(prior_spam) + sum([math.log(p_rank_given_spam(i)) for i in rank_list])\n",
    "  p_ham = math.log(prior_ham) + sum([math.log(p_rank_given_ham(i)) for i in rank_list])\n",
    "  return [p_ham, p_spam].index(max([p_ham, p_spam]))\n",
    "\n",
    "## classification error\n",
    "df_cv['predictions'] = df_cv['word_ranks_small'].map(predict)\n",
    "print 'CV set: correctly classified:', 100*float(sum(df_cv['predictions'] == df_cv['class']))/Ndocs_cv, '%'"
   ]
  },
  {
   "cell_type": "code",
   "execution_count": 12,
   "metadata": {
    "collapsed": false
   },
   "outputs": [
    {
     "name": "stdout",
     "output_type": "stream",
     "text": [
      "d.o.f. in Nigam: 1.146e+09\n",
      "d.o.f. here: 1.482e+08\n"
     ]
    }
   ],
   "source": [
    "print 'd.o.f. in Nigam:', \"{:.3e}\".format(20101*57000)\n",
    "print 'd.o.f. here:', \"{:.3e}\".format(max_rank*len(df))"
   ]
  },
  {
   "cell_type": "code",
   "execution_count": 15,
   "metadata": {
    "collapsed": false
   },
   "outputs": [],
   "source": [
    "################################################################\n",
    "## MaxEnt Classifier\n",
    "\n",
    "## the class assignments as a vector\n",
    "C = np.asarray(df['class'], dtype=float)\n",
    "C_cv = np.asarray(df_cv['class'], dtype=int)\n",
    "\n",
    "## create the features f_w(d), considered as a sparse, integer-valued matrix\n",
    "feature = scipy.sparse.lil_matrix((Ndocs, max_rank))\n",
    "for j in range(Ndocs):\n",
    "  for i in range(len(df['word_ranks'].iloc[j])):\n",
    "    feature[j, df['word_ranks'].iloc[j][i]] += 1.0/(len(df['word_ranks'].iloc[j]))\n",
    "## convert the features into sparse matrices again\n",
    "feature = scipy.sparse.csr_matrix(feature)\n",
    "\n",
    "## create the features f_w(d), considered as a sparse, integer-valued matrix\n",
    "feature_cv = scipy.sparse.lil_matrix((Ndocs_cv, max_rank))\n",
    "for j in range(Ndocs_cv):\n",
    "  for i in range(len(df_cv['word_ranks'].iloc[j])):\n",
    "    feature_cv[j, df_cv['word_ranks'].iloc[j][i]] += 1.0/(len(df_cv['word_ranks'].iloc[j]))\n",
    "## convert the features into sparse matrices again\n",
    "feature_cv = scipy.sparse.csr_matrix(feature_cv)"
   ]
  },
  {
   "cell_type": "code",
   "execution_count": 16,
   "metadata": {
    "collapsed": true
   },
   "outputs": [],
   "source": [
    "## useful functions\n",
    "\n",
    "## compute the log likelihood\n",
    "def loglike(lambda_spam, lambda_ham, flambda_spam, flambda_ham):\n",
    "  return flambda_spam.dot(C) + flambda_ham.dot(1-C) - sum(np.log(np.exp(flambda_spam) + np.exp(flambda_ham)))\n",
    "\n",
    "## compute the gradient\n",
    "def gradient(lambda_spam, lambda_ham, flambda_spam, flambda_ham):\n",
    "  boltzmann_spam = np.exp(flambda_spam)\n",
    "  boltzmann_ham = np.exp(flambda_ham)\n",
    "  dLLdlambda_spam = feature.transpose().dot(C) - feature.transpose().dot( (boltzmann_spam/(boltzmann_spam + boltzmann_ham) ) )\n",
    "  dLLdlambda_ham = feature.transpose().dot(1-C) - feature.transpose().dot( (boltzmann_ham/(boltzmann_spam + boltzmann_ham) ) )\n",
    "  return [dLLdlambda_spam, dLLdlambda_ham]\n",
    "\n",
    "## compute gradient via finite differences\n",
    "def gradient_FD(lambda_spam, lambda_ham, flambda_spam, flambda_ham, epsilon):\n",
    "  LL1 = loglike(lambda_spam, lambda_ham, flambda_spam, flambda_ham)\n",
    "  dLLdlambda_spam_FD = [0 for i in range(max_rank)]\n",
    "  dLLdlambda_ham_FD = [0 for i in range(max_rank)]\n",
    "  for i in range(len(lambda_spam)):\n",
    "    lambda_spam_2 = np.copy(lambda_spam)\n",
    "    lambda_ham_2 = np.copy(lambda_ham)\n",
    "    lambda_spam_2[i] += epsilon #update only the spam lambda\n",
    "    flambda_spam_2 = feature.dot(lambda_spam_2)\n",
    "    flambda_ham_2 = feature.dot(lambda_ham_2)\n",
    "    LL2 = loglike(lambda_spam_2, lambda_ham_2, flambda_spam_2, flambda_ham_2)\n",
    "    dLLdlambda_spam_FD[i] = (LL2 - LL1)/epsilon\n",
    "  for i in range(len(lambda_spam)):\n",
    "    lambda_spam_2 = np.copy(lambda_spam)\n",
    "    lambda_ham_2 = np.copy(lambda_ham)\n",
    "    lambda_ham_2[i] += epsilon #update only the ham lambda\n",
    "    flambda_spam_2 = feature.dot(lambda_spam_2)\n",
    "    flambda_ham_2 = feature.dot(lambda_ham_2)\n",
    "    LL2 = loglike(lambda_spam_2, lambda_ham_2, flambda_spam_2, flambda_ham_2)\n",
    "    dLLdlambda_ham_FD[i] = (LL2 - LL1)/epsilon\n",
    "  return [dLLdlambda_spam_FD, dLLdlambda_ham_FD]\n",
    "\n",
    "def predictions(lambda_spam, lambda_ham):\n",
    "  flambda_spam_cv = feature_cv.dot(lambda_spam)\n",
    "  flambda_ham_cv = feature_cv.dot(lambda_ham)\n",
    "  boltzmann_ham_cv = np.squeeze(np.asarray(np.exp(flambda_ham_cv)))\n",
    "  boltzmann_spam_cv = np.squeeze(np.asarray(np.exp(flambda_spam_cv)))\n",
    "  return np.array( boltzmann_spam_cv > boltzmann_ham_cv, dtype=int)"
   ]
  },
  {
   "cell_type": "code",
   "execution_count": 17,
   "metadata": {
    "collapsed": false
   },
   "outputs": [],
   "source": [
    "## check gradient (very slow)\n",
    "if False:\n",
    "  ## create the vector of parameters to be learned (initialized randomly)\n",
    "  np.random.seed(seed=1)\n",
    "  lambda_spam = np.random.uniform(0,1,max_rank)\n",
    "  lambda_ham = np.random.uniform(0,1,max_rank)\n",
    "  ## useful factors\n",
    "  flambda_spam = feature.dot(lambda_spam)\n",
    "  flambda_ham = feature.dot(lambda_ham)\n",
    "  ## exact gradient\n",
    "  [dLLdlambda_spam, dLLdlambda_ham] = gradient(lambda_spam, lambda_ham, flambda_spam, flambda_ham)\n",
    "\n",
    "  print 'error in gradients for epsilon = 0.1'\n",
    "  [dLLdlambda_spam_FD, dLLdlambda_ham_FD] = gradient_FD(lambda_spam, lambda_ham, flambda_spam, flambda_ham, 0.1)\n",
    "  print [sum(np.squeeze(np.asarray(dLLdlambda_spam)) - np.asarray(dLLdlambda_spam_FD))/max_rank, \\\n",
    "       sum(np.squeeze(np.asarray(dLLdlambda_ham)) - np.asarray(dLLdlambda_ham_FD))/max_rank]\n",
    "\n",
    "  print 'error in gradients for epsilon = 0.001'\n",
    "  [dLLdlambda_spam_FD, dLLdlambda_ham_FD] = gradient_FD(lambda_spam, lambda_ham, flambda_spam, flambda_ham, 0.001)\n",
    "  print [sum(np.squeeze(np.asarray(dLLdlambda_spam)) - np.asarray(dLLdlambda_spam_FD))/max_rank, \\\n",
    "       sum(np.squeeze(np.asarray(dLLdlambda_ham)) - np.asarray(dLLdlambda_ham_FD))/max_rank]"
   ]
  },
  {
   "cell_type": "code",
   "execution_count": 18,
   "metadata": {
    "collapsed": false
   },
   "outputs": [],
   "source": [
    "## Training\n",
    "\n",
    "## learning rate\n",
    "alpha = 10.0\n",
    "\n",
    "## create the vector of parameters to be learned (initialized to zero)\n",
    "lambda_spam = np.zeros(max_rank)\n",
    "lambda_ham = np.zeros(max_rank)\n",
    "## the initial cost and accuracy\n",
    "flambda_spam = feature.dot(lambda_spam)\n",
    "flambda_ham = feature.dot(lambda_ham)\n",
    "## record the log likelihood and the prediction\n",
    "LL_history = [loglike(lambda_spam, lambda_ham, flambda_spam, flambda_ham)]\n",
    "predict = predictions(lambda_spam, lambda_ham)\n",
    "predictions_history = [1.0*sum(predict == C_cv)/len(predict)]\n",
    "\n",
    "## gradient ascent\n",
    "Nitermax = 10000\n",
    "for i in range(Nitermax):\n",
    "  #print 'training:', str(i+1), 'out of', Nitermax\n",
    "  ## compute the gradient\n",
    "  [dLLdlambda_spam, dLLdlambda_ham] = gradient(lambda_spam, lambda_ham, flambda_spam, flambda_ham)\n",
    "  ## advance the parameters\n",
    "  lambda_spam = lambda_spam + alpha*dLLdlambda_spam\n",
    "  lambda_ham = lambda_ham + alpha*dLLdlambda_ham\n",
    "  ## some useful factors\n",
    "  flambda_spam = feature.dot(lambda_spam)\n",
    "  flambda_ham = feature.dot(lambda_ham)\n",
    "  ## record the log likelihood and the predictions\n",
    "  LL_history.append(loglike(lambda_spam, lambda_ham, flambda_spam, flambda_ham)) \n",
    "  predict = predictions(lambda_spam, lambda_ham)\n",
    "  predictions_history.append(1.0*sum(predict == C_cv)/len(predict))"
   ]
  },
  {
   "cell_type": "code",
   "execution_count": 19,
   "metadata": {
    "collapsed": false
   },
   "outputs": [
    {
     "name": "stdout",
     "output_type": "stream",
     "text": [
      "final prediction accuracy: 0.964338781575\n"
     ]
    },
    {
     "data": {
      "image/png": "[encoded data removed]",
      "text/plain": [
       "<matplotlib.figure.Figure at 0x7fb16e5e6910>"
      ]
     },
     "metadata": {},
     "output_type": "display_data"
    },
    {
     "data": {
      "image/png": "[encoded data removed]",
      "text/plain": [
       "<matplotlib.figure.Figure at 0x7fb16b786d10>"
      ]
     },
     "metadata": {},
     "output_type": "display_data"
    }
   ],
   "source": [
    "## predictions \n",
    "print 'final prediction accuracy:', predictions_history[-1]\n",
    "#print LL_history;\n",
    "## plot the training history\n",
    "%matplotlib inline\n",
    "plt.plot(LL_history[500:], c='black')\n",
    "plt.ylabel('log likelihood')\n",
    "plt.xlabel('gradient ascent iterations')\n",
    "plt.show()\n",
    "\n",
    "## plot the training history\n",
    "%matplotlib inline\n",
    "plt.plot(predictions_history, c='black')\n",
    "plt.ylabel('prediction % accuracy')\n",
    "plt.xlabel('gradient ascent iterations')\n",
    "plt.show()"
   ]
  },
  {
   "cell_type": "code",
   "execution_count": null,
   "metadata": {
    "collapsed": true
   },
   "outputs": [],
   "source": []
  },
  {
   "cell_type": "code",
   "execution_count": null,
   "metadata": {
    "collapsed": true
   },
   "outputs": [],
   "source": []
  },
  {
   "cell_type": "code",
   "execution_count": null,
   "metadata": {
    "collapsed": true
   },
   "outputs": [],
   "source": [
    "#xxxxxxxxxxxxxxxxxxxxxx OLD CODE xxxxxxxxxxxxxxxxxxxxxxxxxxxxxxxxxxxxxxxxxxx"
   ]
  },
  {
   "cell_type": "code",
   "execution_count": null,
   "metadata": {
    "collapsed": false
   },
   "outputs": [],
   "source": [
    "################################################################\n",
    "## MaxEnt Classifier (CAN I SPEED THIS UP?)\n",
    "## simple idea: don't evaluate error each iteration\n",
    "\n",
    "## the class assignments as a vector\n",
    "C = np.asarray(df['class'], dtype=float)\n",
    "C_cv = np.asarray(df_cv['class'], dtype=int)\n",
    "\n",
    "## create the features f_w(d), considered as a sparse, integer-valued matrix\n",
    "feature = scipy.sparse.lil_matrix((Ndocs, max_rank))\n",
    "for j in range(Ndocs):\n",
    "  for i in range(len(df['word_ranks'].iloc[j])):\n",
    "    feature[j, df['word_ranks'].iloc[j][i]] += 1.0/(len(df['word_ranks'].iloc[j]))\n",
    "\n",
    "## create the features f_w(d), considered as a sparse, integer-valued matrix for the CV set\n",
    "feature_cv = scipy.sparse.lil_matrix((Ndocs_cv, max_rank)).toarray()\n",
    "for j in range(Ndocs_cv):\n",
    "  for i in range(len(df_cv['word_ranks'].iloc[j])):\n",
    "    feature_cv[j, df_cv['word_ranks'].iloc[j][i]] += 1.0/(len(df['word_ranks'].iloc[j]))\n",
    "    \n",
    "## convert the features into sparse matrices again\n",
    "feature = scipy.sparse.csr_matrix(feature)\n",
    "feature_cv = scipy.sparse.csr_matrix(feature_cv)\n",
    "\n",
    "## some useful arrays\n",
    "CC = np.array([C,]*max_rank).transpose()\n",
    "II = np.ones(CC.shape)\n",
    "cc = np.array([C,]*1).transpose()\n",
    "ii = np.array([np.ones(len(C)),]*1).transpose()"
   ]
  },
  {
   "cell_type": "code",
   "execution_count": null,
   "metadata": {
    "collapsed": false
   },
   "outputs": [],
   "source": [
    "## useful functions\n",
    "\n",
    "## compute the log likelihood\n",
    "def loglike(lambda_spam, lambda_ham, flambda_spam, flambda_ham):\n",
    "  return sum( np.multiply(cc,flambda_spam) + np.multiply(ii-cc,flambda_ham) - np.log( np.exp( flambda_spam ) + np.exp( flambda_ham ) ) )[0,0]\n",
    "\n",
    "## compute the gradient\n",
    "def gradient(lambda_spam, lambda_ham, flambda_spam, flambda_ham):\n",
    "  boltzmann_spam = np.exp(flambda_spam)\n",
    "  boltzmann_ham = np.exp(flambda_ham)\n",
    "  dLLdlambda_spam = (feature.multiply(CC) - (feature.multiply(boltzmann_spam)/(boltzmann_spam + boltzmann_ham))).sum(axis=0)\n",
    "  dLLdlambda_ham = (feature.multiply(II-CC) - (feature.multiply(boltzmann_ham)/(boltzmann_spam + boltzmann_ham))).sum(axis=0)\n",
    "  return [dLLdlambda_spam, dLLdlambda_ham]\n",
    "\n",
    "## compute gradient via finite differences\n",
    "def gradient_FD(lambda_spam, lambda_ham, flambda_spam, flambda_ham, epsilon):\n",
    "  LL1 = loglike(lambda_spam, lambda_ham, flambda_spam, flambda_ham)\n",
    "  dLLdlambda_spam_FD = [0 for i in range(max_rank)]\n",
    "  dLLdlambda_ham_FD = [0 for i in range(max_rank)]\n",
    "  for i in range(len(lambda_spam)):\n",
    "    lambda_spam_2 = np.copy(lambda_spam)\n",
    "    lambda_ham_2 = np.copy(lambda_ham)\n",
    "    lambda_spam_2[i] += epsilon #update only the spam lambda\n",
    "    flambda_spam_2 = feature.multiply(lambda_spam_2).sum(axis=1)\n",
    "    flambda_ham_2 = feature.multiply(lambda_ham_2).sum(axis=1)\n",
    "    LL2 = loglike(lambda_spam_2, lambda_ham_2, flambda_spam_2, flambda_ham_2)\n",
    "    dLLdlambda_spam_FD[i] = (LL2 - LL1)/epsilon\n",
    "  for i in range(len(lambda_spam)):\n",
    "    lambda_spam_2 = np.copy(lambda_spam)\n",
    "    lambda_ham_2 = np.copy(lambda_ham)\n",
    "    lambda_ham_2[i] += epsilon #update only the ham lambda\n",
    "    flambda_spam_2 = feature.multiply(lambda_spam_2).sum(axis=1)\n",
    "    flambda_ham_2 = feature.multiply(lambda_ham_2).sum(axis=1)\n",
    "    LL2 = loglike(lambda_spam_2, lambda_ham_2, flambda_spam_2, flambda_ham_2)\n",
    "    dLLdlambda_ham_FD[i] = (LL2 - LL1)/epsilon\n",
    "  return [dLLdlambda_spam_FD, dLLdlambda_ham_FD]\n",
    "\n",
    "def predictions(lambda_spam, lambda_ham):\n",
    "  flambda_spam_cv = feature_cv.multiply(lambda_spam).sum(axis=1)\n",
    "  flambda_ham_cv = feature_cv.multiply(lambda_ham).sum(axis=1)\n",
    "  boltzmann_ham_cv = np.squeeze(np.asarray(np.exp(flambda_ham_cv)))\n",
    "  boltzmann_spam_cv = np.squeeze(np.asarray(np.exp(flambda_spam_cv)))\n",
    "  return np.array( boltzmann_spam_cv > boltzmann_ham_cv, dtype=int)"
   ]
  },
  {
   "cell_type": "code",
   "execution_count": null,
   "metadata": {
    "collapsed": false
   },
   "outputs": [],
   "source": [
    "## check gradient (very slow)\n",
    "if True:\n",
    "  ## create the vector of parameters to be learned (initialized randomly)\n",
    "  np.random.seed(seed=1)\n",
    "  lambda_spam = np.random.uniform(0,1,max_rank)\n",
    "  lambda_ham = np.random.uniform(0,1,max_rank)\n",
    "  \n",
    "  ## useful factors\n",
    "  flambda_spam = feature.multiply(lambda_spam).sum(axis=1)\n",
    "  flambda_ham = feature.multiply(lambda_ham).sum(axis=1)\n",
    "  ## exact gradient\n",
    "  [dLLdlambda_spam, dLLdlambda_ham] = gradient(lambda_spam, lambda_ham, flambda_spam, flambda_ham)\n",
    "\n",
    "  print 'error in gradients for epsilon = 0.1'\n",
    "  [dLLdlambda_spam_FD, dLLdlambda_ham_FD] = gradient_FD(lambda_spam, lambda_ham, flambda_spam, flambda_ham, 0.1)\n",
    "  print [sum(np.squeeze(np.asarray(dLLdlambda_spam)) - np.asarray(dLLdlambda_spam_FD))/max_rank, \\\n",
    "       sum(np.squeeze(np.asarray(dLLdlambda_ham)) - np.asarray(dLLdlambda_ham_FD))/max_rank]\n",
    "\n",
    "  print 'error in gradients for epsilon = 0.001'\n",
    "  [dLLdlambda_spam_FD, dLLdlambda_ham_FD] = gradient_FD(lambda_spam, lambda_ham, flambda_spam, flambda_ham, 0.001)\n",
    "  print [sum(np.squeeze(np.asarray(dLLdlambda_spam)) - np.asarray(dLLdlambda_spam_FD))/max_rank, \\\n",
    "       sum(np.squeeze(np.asarray(dLLdlambda_ham)) - np.asarray(dLLdlambda_ham_FD))/max_rank]\n",
    "\n",
    "  print sum(np.squeeze(np.asarray(dLLdlambda_spam)))\n",
    "  print sum(np.asarray(dLLdlambda_spam_FD))"
   ]
  },
  {
   "cell_type": "code",
   "execution_count": null,
   "metadata": {
    "collapsed": false,
    "scrolled": true
   },
   "outputs": [],
   "source": [
    "## Training\n",
    "\n",
    "## learning rate\n",
    "alpha = 10.0\n",
    "\n",
    "## create the vector of parameters to be learned (initialized to zero)\n",
    "lambda_spam = np.zeros(max_rank)\n",
    "lambda_ham = np.zeros(max_rank)\n",
    "\n",
    "## the initial cost and accuracy\n",
    "flambda_spam = feature.multiply(lambda_spam).sum(axis=1)\n",
    "flambda_ham = feature.multiply(lambda_ham).sum(axis=1)\n",
    "## record the log likelihood and the prediction\n",
    "LL_history = [loglike(lambda_spam, lambda_ham, flambda_spam, flambda_ham)]\n",
    "predict = predictions(lambda_spam, lambda_ham)\n",
    "predictions_history = [1.0*sum(predict == C_cv)/len(predict)]\n",
    "\n",
    "## gradient ascent\n",
    "Nitermax = 2\n",
    "for i in range(Nitermax):\n",
    "  print 'training:', str(i+1), 'out of', Nitermax\n",
    "  ## compute the gradient\n",
    "  [dLLdlambda_spam, dLLdlambda_ham] = gradient(lambda_spam, lambda_ham, flambda_spam, flambda_ham)\n",
    "  ## advance the parameters\n",
    "  lambda_spam = lambda_spam + alpha*dLLdlambda_spam\n",
    "  lambda_ham = lambda_ham + alpha*dLLdlambda_ham\n",
    "  ## reshape\n",
    "  lambda_spam = np.squeeze(np.asarray(lambda_spam))\n",
    "  lambda_ham = np.squeeze(np.asarray(lambda_ham))\n",
    "  ## some useful factors\n",
    "  flambda_spam = feature.multiply(lambda_spam).sum(axis=1)\n",
    "  flambda_ham = feature.multiply(lambda_ham).sum(axis=1)\n",
    "\n",
    "  ## record the log likelihood and the predictions\n",
    "  LL_history.append(loglike(lambda_spam, lambda_ham, flambda_spam, flambda_ham)) \n",
    "  predict = predictions(lambda_spam, lambda_ham)\n",
    "  predictions_history.append(1.0*sum(predict == C_cv)/len(predict))"
   ]
  },
  {
   "cell_type": "code",
   "execution_count": null,
   "metadata": {
    "collapsed": false
   },
   "outputs": [],
   "source": [
    "## predictions \n",
    "print 'final prediction accuracy:', predictions_history[-1]\n",
    "#print LL_history;\n",
    "## plot the training history\n",
    "%matplotlib inline\n",
    "plt.plot(LL_history, c='black')\n",
    "plt.ylabel('log likelihood')\n",
    "plt.xlabel('gradient ascent iterations')\n",
    "plt.show()\n",
    "\n",
    "## plot the training history\n",
    "%matplotlib inline\n",
    "plt.plot(predictions_history, c='black')\n",
    "plt.ylabel('prediction % accuracy')\n",
    "plt.xlabel('gradient ascent iterations')\n",
    "plt.show()"
   ]
  },
  {
   "cell_type": "code",
   "execution_count": null,
   "metadata": {
    "collapsed": true
   },
   "outputs": [],
   "source": []
  },
  {
   "cell_type": "code",
   "execution_count": null,
   "metadata": {
    "collapsed": true
   },
   "outputs": [],
   "source": []
  },
  {
   "cell_type": "code",
   "execution_count": null,
   "metadata": {
    "collapsed": true
   },
   "outputs": [],
   "source": []
  },
  {
   "cell_type": "code",
   "execution_count": null,
   "metadata": {
    "collapsed": true
   },
   "outputs": [],
   "source": []
  },
  {
   "cell_type": "code",
   "execution_count": null,
   "metadata": {
    "collapsed": true
   },
   "outputs": [],
   "source": []
  },
  {
   "cell_type": "code",
   "execution_count": null,
   "metadata": {
    "collapsed": true
   },
   "outputs": [],
   "source": [
    "### OLDER VERSIONS\n",
    "## MaxEnt Classifier\n",
    "## if I end up dropping some low freq. words I might need to be careful\n",
    "## worry about possible empty documents"
   ]
  },
  {
   "cell_type": "code",
   "execution_count": null,
   "metadata": {
    "collapsed": false
   },
   "outputs": [],
   "source": [
    "## learning rate\n",
    "alpha = 0.1\n",
    "\n",
    "## create the vector of parameters to be learned (initialized to zero)\n",
    "lambda_spam = np.ones(len(words_frequencies))\n",
    "lambda_ham = np.ones(len(words_frequencies))\n",
    "\n",
    "## the class assignments as a vector\n",
    "C = np.asarray(df['class'], dtype=float)\n",
    "C_cv = np.asarray(df_cv['class'], dtype=int)"
   ]
  },
  {
   "cell_type": "code",
   "execution_count": null,
   "metadata": {
    "collapsed": false
   },
   "outputs": [],
   "source": [
    "## useful intermediate quantities\n",
    "flambda_spam = [sum([ lambda_spam[r]*df['word_ranks'].iloc[b].count(r)/len(df['word_ranks'].iloc[b]) for r in df['word_ranks'].iloc[b]]) for b in range(len(df))]\n",
    "flambda_ham = [sum([ lambda_ham[r]*df['word_ranks'].iloc[b].count(r)/len(df['word_ranks'].iloc[b]) for r in df['word_ranks'].iloc[b]]) for b in range(len(df))]\n",
    "boltzmann_spam = np.exp(flambda_spam)\n",
    "boltzmann_ham = np.exp(flambda_ham)\n",
    "## record the log likelihood\n",
    "LL = sum( C*(flambda_spam) + (1-C)*(flambda_ham) - np.log(np.exp(flambda_spam) + np.exp(flambda_ham)))\n",
    "LL_history = [LL]"
   ]
  },
  {
   "cell_type": "code",
   "execution_count": null,
   "metadata": {
    "collapsed": true
   },
   "outputs": [],
   "source": [
    "dldlambda_spam = np.ones(len(words_frequencies))\n",
    "dldlambda_ham = np.ones(len(words_frequencies))"
   ]
  },
  {
   "cell_type": "code",
   "execution_count": null,
   "metadata": {
    "collapsed": false
   },
   "outputs": [],
   "source": [
    "for r in range(3):\n",
    "  dldlambda_spam[r] = sum([lambda_spam[r]*C[b]/len(df['word_ranks'].iloc[b]) for b in range(len(df))])"
   ]
  },
  {
   "cell_type": "code",
   "execution_count": null,
   "metadata": {
    "collapsed": false
   },
   "outputs": [],
   "source": [
    "butt = sum([lambda_spam[0]*C[b]/len(df['word_ranks'].iloc[b]) for b in range(len(df))])"
   ]
  },
  {
   "cell_type": "code",
   "execution_count": null,
   "metadata": {
    "collapsed": false
   },
   "outputs": [],
   "source": [
    "## compute the gradient\n",
    "dldlambda_spam = (feature.multiply(CC) - feature.multiply(boltzmann_spam)/(boltzmann_spam + boltzmann_ham)).sum(axis=0)\n",
    "dldlambda_ham = (feature.multiply(II-CC) - feature.multiply(boltzmann_ham)/(boltzmann_spam + boltzmann_ham)).sum(axis=0) "
   ]
  },
  {
   "cell_type": "code",
   "execution_count": null,
   "metadata": {
    "collapsed": true
   },
   "outputs": [],
   "source": [
    "## advance the parameters\n",
    "lambda_spam = lambda_spam + alpha*dldlambda_spam\n",
    "lambda_ham = lambda_ham + alpha*dldlambda_ham "
   ]
  },
  {
   "cell_type": "code",
   "execution_count": null,
   "metadata": {
    "collapsed": false
   },
   "outputs": [],
   "source": [
    "################################################################\n",
    "## MaxEnt Classifier (CAN I SPEED THIS UP?)\n",
    "\n",
    "## the class assignments as a vector\n",
    "C = np.asarray(df['class'], dtype=float)\n",
    "C_cv = np.asarray(df_cv['class'], dtype=int)\n",
    "\n",
    "## some useful matrices\n",
    "CC = np.array([C,]*len(words_tot_unique)).transpose()\n",
    "II = np.ones(CC.shape)\n",
    "\n",
    "## create the features f_w(d), considered as a sparse, integer-valued matrix\n",
    "feature = scipy.sparse.csr_matrix((len(df), len(words_tot_unique))).toarray()\n",
    "for j in range(len(df)):\n",
    "  for i in range(len(df['words2'].iloc[j])):\n",
    "    feature[j, words_tot_unique.index(df['words2'].iloc[j][i])] += 1.0/(len(df['words2'].iloc[j]))\n",
    "\n",
    "## create the features f_w(d), considered as a sparse, integer-valued matrix for the CV set\n",
    "feature_cv = scipy.sparse.csr_matrix((len(df_cv), len(words_tot_unique))).toarray()\n",
    "for j in range(len(df_cv)):\n",
    "  for i in range(len(df_cv['words2'].iloc[j])):\n",
    "    if df_cv['words2'].iloc[j][i] in words_tot_unique:\n",
    "      feature_cv[j, words_tot_unique.index(df_cv['words2'].iloc[j][i])] += 1.0/(len(df_cv['words2'].iloc[j]))\n",
    "\n",
    "## convert the features into sparse matrices again\n",
    "feature = scipy.sparse.csr_matrix(feature)\n",
    "feature_cv = scipy.sparse.csr_matrix(feature_cv)"
   ]
  },
  {
   "cell_type": "code",
   "execution_count": null,
   "metadata": {
    "collapsed": false
   },
   "outputs": [],
   "source": [
    "## Training\n",
    "\n",
    "## learning rate\n",
    "alpha = 0.1\n",
    "\n",
    "## create the vector of parameters to be learned (initialized to zero)\n",
    "lambda_spam = np.zeros(len(words_tot_unique))\n",
    "lambda_ham = np.zeros(len(words_tot_unique))\n",
    "\n",
    "## the initial cost and accuracy\n",
    "## first some useful Boltzmann factors\n",
    "flambda_s = feature.multiply(lambda_spam).sum(axis=1)\n",
    "flambda_h = feature.multiply(lambda_ham).sum(axis=1)\n",
    "boltzmann_spam = np.exp(flambda_s)\n",
    "boltzmann_ham = np.exp(flambda_h)\n",
    "## record the log likelihood\n",
    "LL = sum( (C*np.squeeze(np.asarray((flambda_s)))) + ((1-C)*np.squeeze(np.asarray((flambda_h)))) \\\n",
    "           - np.log( np.exp( flambda_s ) + np.exp( flambda_h ) ) )[0,0]\n",
    "LL_history = [LL]\n",
    "## then the prediction\n",
    "flambda_s_cv = feature_cv.multiply(lambda_spam).sum(axis=1)\n",
    "flambda_h_cv = feature_cv.multiply(lambda_ham).sum(axis=1)\n",
    "boltzmann_ham_cv = np.squeeze(np.asarray(np.exp(flambda_h_cv)))\n",
    "boltzmann_spam_cv = np.squeeze(np.asarray(np.exp(flambda_s_cv)))\n",
    "predictions = np.array( boltzmann_spam_cv > boltzmann_ham_cv, dtype=int)\n",
    "predictions_history = [1.0*sum(predictions == C_cv)/len(predictions)]\n",
    "\n",
    "## gradient ascent\n",
    "Nitermax = 200\n",
    "for i in range(Nitermax):\n",
    "  print 'training:', str(i+1), 'out of', Nitermax\n",
    "  ## compute the gradient\n",
    "  dldlambda_spam = (feature.multiply(CC) - feature.multiply(boltzmann_spam)/(boltzmann_spam + boltzmann_ham)).sum(axis=0)\n",
    "  dldlambda_ham = (feature.multiply(II-CC) - feature.multiply(boltzmann_ham)/(boltzmann_spam + boltzmann_ham)).sum(axis=0) \n",
    "  ## advance the parameters\n",
    "  lambda_spam = lambda_spam + alpha*dldlambda_spam\n",
    "  lambda_ham = lambda_ham + alpha*dldlambda_ham\n",
    "  ## reshape\n",
    "  lambda_spam = np.squeeze(np.asarray(lambda_spam))\n",
    "  lambda_ham = np.squeeze(np.asarray(lambda_ham))\n",
    "  \n",
    "  ## some useful Boltzmann factors\n",
    "  flambda_s = feature.multiply(lambda_spam).sum(axis=1)\n",
    "  flambda_h = feature.multiply(lambda_ham).sum(axis=1)\n",
    "  boltzmann_spam = np.exp(flambda_s)\n",
    "  boltzmann_ham = np.exp(flambda_h)\n",
    "  ## record the log likelihood\n",
    "  LL = sum( (C*np.squeeze(np.asarray((flambda_s)))) + ((1-C)*np.squeeze(np.asarray((flambda_h)))) \\\n",
    "           - np.log( np.exp( flambda_s ) + np.exp( flambda_h ) ) )[0,0]\n",
    "  LL_history.append(LL)\n",
    "  \n",
    "  ## predictions \n",
    "  flambda_s_cv = feature_cv.multiply(lambda_spam).sum(axis=1)\n",
    "  flambda_h_cv = feature_cv.multiply(lambda_ham).sum(axis=1)\n",
    "  boltzmann_ham_cv = np.squeeze(np.asarray(np.exp(flambda_h_cv)))\n",
    "  boltzmann_spam_cv = np.squeeze(np.asarray(np.exp(flambda_s_cv)))\n",
    "  predictions = np.array( boltzmann_spam_cv > boltzmann_ham_cv, dtype=int)\n",
    "  predictions_history.append(1.0*sum(predictions == C_cv)/len(predictions))"
   ]
  },
  {
   "cell_type": "code",
   "execution_count": null,
   "metadata": {
    "collapsed": false
   },
   "outputs": [],
   "source": [
    "## predictions \n",
    "print 'final prediction accuracy:', predictions_history[-1]\n",
    "\n",
    "## plot the training history\n",
    "%matplotlib inline\n",
    "plt.plot(LL_history, c='black')\n",
    "plt.ylabel('log likelihood')\n",
    "plt.xlabel('gradient ascent iterations')\n",
    "plt.show()\n",
    "\n",
    "## plot the training history\n",
    "%matplotlib inline\n",
    "plt.plot(predictions_history, c='black')\n",
    "plt.ylabel('prediction % accuracy')\n",
    "plt.xlabel('gradient ascent iterations')\n",
    "plt.show()"
   ]
  },
  {
   "cell_type": "code",
   "execution_count": null,
   "metadata": {
    "collapsed": true
   },
   "outputs": [],
   "source": []
  },
  {
   "cell_type": "code",
   "execution_count": null,
   "metadata": {
    "collapsed": true
   },
   "outputs": [],
   "source": []
  },
  {
   "cell_type": "code",
   "execution_count": null,
   "metadata": {
    "collapsed": true
   },
   "outputs": [],
   "source": []
  },
  {
   "cell_type": "code",
   "execution_count": null,
   "metadata": {
    "collapsed": true
   },
   "outputs": [],
   "source": [
    "## OLD MaxEnt Classifier -- attempt w/ sparse arrays (very slow)\n",
    "\n",
    "## the class assignments as a vector\n",
    "C = np.asarray(df['class'], dtype=float)\n",
    "C_cv = np.asarray(df_cv['class'], dtype=int)\n",
    "\n",
    "## create the features f_w(d), considered as a sparse, integer-valued matrix\n",
    "feature = scipy.sparse.csr_matrix((len(df), len(words_tot_unique))).toarray()\n",
    "for j in range(len(df)):\n",
    "  for i in range(len(df['words2'].iloc[j])):\n",
    "    feature[j, words_tot_unique.index(df['words2'].iloc[j][i])] += 1.0/(len(df['words2'].iloc[j]))\n",
    "\n",
    "## create the features f_w(d), considered as a sparse, integer-valued matrix for the CV set\n",
    "feature_cv = scipy.sparse.csr_matrix((len(df_cv), len(words_tot_unique))).toarray()\n",
    "for j in range(len(df_cv)):\n",
    "  for i in range(len(df_cv['words2'].iloc[j])):\n",
    "    if df_cv['words2'].iloc[j][i] in words_tot_unique:\n",
    "      feature_cv[j, words_tot_unique.index(df_cv['words2'].iloc[j][i])] += 1.0/(len(df_cv['words2'].iloc[j]))\n",
    "      \n",
    "## create the matrices of parameters to be learned    \n",
    "lambda_spam = np.zeros(len(words_tot_unique))\n",
    "lambda_ham = np.zeros(len(words_tot_unique))\n",
    "\n",
    "## some useful matrices\n",
    "CC = np.array([C,]*len(words_tot_unique)).transpose()\n",
    "II = np.ones(CC.shape)\n",
    "\n",
    "## learning rate\n",
    "alpha = 0.0001\n",
    "\n",
    "## initial log likelihood\n",
    "LL = sum( C*(lambda_spam * feature).sum(axis=1) + (1-C)*(lambda_ham * feature).sum(axis=1) - \\\n",
    "         np.log( np.exp((lambda_spam * feature).sum(axis=1)) + np.exp((lambda_ham * feature).sum(axis=1)) ) )\n",
    "print 'initial log likelihood:', LL"
   ]
  },
  {
   "cell_type": "code",
   "execution_count": null,
   "metadata": {
    "collapsed": true
   },
   "outputs": [],
   "source": [
    "## training\n",
    "LL_history = [LL]\n",
    "Nitermax = 5\n",
    "for i in range(Nitermax):\n",
    "  print 'training:', str(i), 'out of', Nitermax\n",
    "  ## some useful Boltzmann factors\n",
    "  boltzmann_ham = np.exp((lambda_ham * feature).sum(axis=1))\n",
    "  boltzmann_ham = np.array([boltzmann_ham,]*len(words_tot_unique)).transpose()\n",
    "  ## convert them to the right size\n",
    "  boltzmann_spam = np.exp((lambda_spam * feature).sum(axis=1))\n",
    "  boltzmann_spam = np.array([boltzmann_spam,]*len(words_tot_unique)).transpose()\n",
    "  ## compute the gradient\n",
    "  dldlambda_spam = (CC*feature - (boltzmann_spam * feature)/(boltzmann_spam + boltzmann_ham)).sum(axis=0)\n",
    "  dldlambda_ham = ((II-CC)*feature - (boltzmann_ham * feature)/(boltzmann_spam + boltzmann_ham)).sum(axis=0)\n",
    "  ## advance the parameters\n",
    "  lambda_spam = lambda_spam + alpha*dldlambda_spam\n",
    "  lambda_ham = lambda_ham + alpha*dldlambda_ham\n",
    "  ## record the log likelihood\n",
    "  LL = sum( C*(lambda_spam * feature).sum(axis=1) + (1-C)*(lambda_ham * feature).sum(axis=1) - \\\n",
    "         np.log( np.exp((lambda_ham * feature).sum(axis=1)) + np.exp((lambda_spam * feature).sum(axis=1)) ) )\n",
    "  LL_history.append(LL)\n",
    "  \n",
    "  LL = sum( C*(lambda_spam * feature).sum(axis=1) + (1-C)*(lambda_ham * feature).sum(axis=1) - \\\n",
    "         np.log( np.exp((lambda_ham * feature).sum(axis=1)) + np.exp((lambda_spam * feature).sum(axis=1)) ) )\n",
    "print 'final log likelihood:', LL\n",
    "\n",
    "## plot the training history\n",
    "%matplotlib inline\n",
    "plt.plot(LL_history, c='black')\n",
    "plt.ylabel('log likelihood')\n",
    "plt.xlabel('gradient ascent iterations')\n",
    "plt.show()\n",
    "\n",
    "## predictions \n",
    "boltzmann_ham = np.exp((lambda_ham * feature_cv).sum(axis=1))\n",
    "boltzmann_spam = np.exp((lambda_spam * feature_cv).sum(axis=1))\n",
    "predictions = np.array( boltzmann_spam > boltzmann_ham, dtype=int)\n",
    "print 'CV set: correctly classified:', 1.0*sum(predictions == C_cv)/len(predictions)"
   ]
  },
  {
   "cell_type": "code",
   "execution_count": null,
   "metadata": {
    "collapsed": true
   },
   "outputs": [],
   "source": [
    "## some useful arrays\n",
    "#CC = np.array([C,]*max_rank).transpose()\n",
    "#II = np.ones(CC.shape)\n",
    "#cc = np.array([C,]*1).transpose()\n",
    "#ii = np.array([np.ones(len(C)),]*1).transpose()"
   ]
  },
  {
   "cell_type": "code",
   "execution_count": null,
   "metadata": {
    "collapsed": true
   },
   "outputs": [],
   "source": [
    "## convert the list of words to a list of word ranks\n",
    "words_tot = [item for sublist in df['words'] for item in sublist]\n",
    "count = Counter(words_tot).most_common()\n",
    "words_unique = [count[i][0] for i in range(len(count))]\n",
    "words_frequencies = [count[i][1] for i in range(len(count))]\n",
    "\n",
    "word_ranks = []\n",
    "for i in range(len(df)):\n",
    "  word_ranks_dummy = sorted([ words_unique.index(w) for w in df['words'].iloc[i]])\n",
    "  word_ranks.append(word_ranks_dummy)\n",
    "df['word_ranks'] = word_ranks\n",
    "\n",
    "## do the same for the CV set, but only include words that show up in the training data\n",
    "## otherwise we'd be comparing apples & oranges\n",
    "word_ranks = []\n",
    "for i in range(len(df_cv)):\n",
    "  word_ranks_dummy = sorted([words_unique.index(w) for w in df_cv['words'].iloc[i] if w in words_unique])\n",
    "  word_ranks.append(word_ranks_dummy)\n",
    "df_cv['word_ranks'] = word_ranks"
   ]
  }
 ],
 "metadata": {
  "kernelspec": {
   "display_name": "Python 2, Gavin",
   "language": "python",
   "name": "python2"
  },
  "language_info": {
   "codemirror_mode": {
    "name": "ipython",
    "version": 2
   },
   "file_extension": ".py",
   "mimetype": "text/x-python",
   "name": "python",
   "nbconvert_exporter": "python",
   "pygments_lexer": "ipython2",
   "version": "2.7.11"
  }
 },
 "nbformat": 4,
 "nbformat_minor": 0
}
